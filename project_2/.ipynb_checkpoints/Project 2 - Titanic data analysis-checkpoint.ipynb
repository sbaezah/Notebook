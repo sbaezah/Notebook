{
 "cells": [
  {
   "cell_type": "markdown",
   "metadata": {
    "nbpresent": {
     "id": "67a3863e-c15e-4fda-8199-f351d2edb060"
    }
   },
   "source": [
    "# Titanic data analysis\n",
    "\n",
    "Sebastian Baeza\n",
    "\n",
    "Project 2: Udacity Data Analyst Nanodegree\n"
   ]
  },
  {
   "cell_type": "markdown",
   "metadata": {
    "nbpresent": {
     "id": "e16ad930-21e9-4fb0-add1-079ca44f200c"
    }
   },
   "source": [
    "asdasd complete the intro\n"
   ]
  },
  {
   "cell_type": "markdown",
   "metadata": {
    "nbpresent": {
     "id": "c626f016-ab87-4c19-b7ad-ee5e9983a9c8"
    }
   },
   "source": [
    "### Questions For Investigation"
   ]
  },
  {
   "cell_type": "markdown",
   "metadata": {
    "nbpresent": {
     "id": "b426ce34-cd33-4453-9e84-1252c44bb457"
    }
   },
   "source": [
    " ## 1. What factors made people more likely to survive?\n",
    "\n",
    "To answer that question, first, we need to obtain some information about the dataset. So, I will describe a descriptive statistical analysis and then some inferences about the factors that probably conducted to survive (or not survive) this event.\n",
    " \n",
    " \n",
    " # 1.a About the dataset\n",
    " \n",
    "In this section we wil see some tendencies, plots and ohter stuff about the dataset.\n",
    "\n"
   ]
  },
  {
   "cell_type": "code",
   "execution_count": 5,
   "metadata": {},
   "outputs": [
    {
     "name": "stdout",
     "output_type": "stream",
     "text": [
      "Data info:\n",
      "<class 'pandas.core.frame.DataFrame'>\n",
      "RangeIndex: 891 entries, 0 to 890\n",
      "Data columns (total 12 columns):\n",
      "PassengerId    891 non-null int64\n",
      "Survived       891 non-null int64\n",
      "Pclass         891 non-null int64\n",
      "Name           891 non-null object\n",
      "Sex            891 non-null object\n",
      "Age            714 non-null float64\n",
      "SibSp          891 non-null int64\n",
      "Parch          891 non-null int64\n",
      "Ticket         891 non-null object\n",
      "Fare           891 non-null float64\n",
      "Cabin          204 non-null object\n",
      "Embarked       889 non-null object\n",
      "dtypes: float64(2), int64(5), object(5)\n",
      "memory usage: 83.6+ KB\n",
      "None\n",
      "\r\n",
      "\n",
      "Some data description about the numerical columns:\n",
      "       PassengerId    Survived      Pclass         Age       SibSp  \\\n",
      "count   891.000000  891.000000  891.000000  714.000000  891.000000   \n",
      "mean    446.000000    0.383838    2.308642   29.699118    0.523008   \n",
      "std     257.353842    0.486592    0.836071   14.526497    1.102743   \n",
      "min       1.000000    0.000000    1.000000    0.420000    0.000000   \n",
      "25%     223.500000    0.000000    2.000000   20.125000    0.000000   \n",
      "50%     446.000000    0.000000    3.000000   28.000000    0.000000   \n",
      "75%     668.500000    1.000000    3.000000   38.000000    1.000000   \n",
      "max     891.000000    1.000000    3.000000   80.000000    8.000000   \n",
      "\n",
      "            Parch        Fare  \n",
      "count  891.000000  891.000000  \n",
      "mean     0.381594   32.204208  \n",
      "std      0.806057   49.693429  \n",
      "min      0.000000    0.000000  \n",
      "25%      0.000000    7.910400  \n",
      "50%      0.000000   14.454200  \n",
      "75%      0.000000   31.000000  \n",
      "max      6.000000  512.329200  \n",
      "\r\n",
      "\n"
     ]
    }
   ],
   "source": [
    "# import csv\n",
    "import numpy as np\n",
    "import pandas as pd\n",
    "import matplotlib.pyplot as plt\n",
    "\n",
    "#load csv into data frame\n",
    "df_in= pd.read_csv('~/Notebook/project_2/titanic-data.csv')\n",
    "\n",
    "\n",
    "print 'Data info:'\n",
    "print(df_in.info())\n",
    "print('\\r\\n')\n",
    "\n",
    "print('Some data description about the numerical columns:')\n",
    "print(df_in.describe())\n",
    "print('\\r\\n')\n"
   ]
  },
  {
   "cell_type": "markdown",
   "metadata": {},
   "source": [
    "As we see about the dataset, the \"Age\" and \"Cabin\" columns have some \"null\" data, so i will carefully to work with the rows that have complete data in all those columns when the analysis is about \"Age\" or \"Cabin\"."
   ]
  },
  {
   "cell_type": "markdown",
   "metadata": {
    "collapsed": true
   },
   "source": [
    "# About the gender\n",
    "\n",
    "Let's see de \"Gender\" column also as known as \"sex\" in the dataset. This about the idea (or social belief) that says \"Ladies and children first\""
   ]
  },
  {
   "cell_type": "code",
   "execution_count": 61,
   "metadata": {},
   "outputs": [
    {
     "name": "stdout",
     "output_type": "stream",
     "text": [
      "In the dataset are    314 females, \n",
      "and    577 males\n"
     ]
    },
    {
     "data": {
      "image/png": "[encoded data removed]",
      "text/plain": [
       "<matplotlib.figure.Figure at 0x7f4ea7cfa790>"
      ]
     },
     "metadata": {},
     "output_type": "display_data"
    }
   ],
   "source": [
    "# I choose to separate the gender in two data frames\n",
    "df_fem = df_in[df_in.Sex == 'female']\n",
    "df_male = df_in[df_in.Sex == 'male']\n",
    "\n",
    "fields=['Female', 'Male']\n",
    "values = [df_fem['Sex'].count(),df_male['Sex'].count()]\n",
    "y_pos = np.arange(len(fields))\n",
    "\n",
    "print 'In the dataset are %6.0f females, ' % df_fem['Sex'].count()\n",
    "print 'and %6.0f males' % df_male['Sex'].count()\n",
    "\n",
    "# print(fields)\n",
    "# print(values)\n",
    "\n",
    "plt.bar(y_pos,values)\n",
    "plt.xticks(y_pos,fields)\n",
    "# plt.title(\"Gender distribution\")\n",
    "# plt.xlabel(\"Gender\")\n",
    "# plt.ylabel(\"Count\")\n",
    "\n",
    "plt.show()\n"
   ]
  },
  {
   "cell_type": "markdown",
   "metadata": {},
   "source": [
    "If we see the result, there was more males than females. So we can take some views about the female passengers. But before that, i will show some general views about the survivors and age."
   ]
  },
  {
   "cell_type": "code",
   "execution_count": 68,
   "metadata": {},
   "outputs": [
    {
     "name": "stdout",
     "output_type": "stream",
     "text": [
      "Survived\n",
      "0    549\n",
      "1    342\n",
      "dtype: int64\n"
     ]
    }
   ],
   "source": [
    "\n",
    "# print 'In the dataset are %6.0f females, ' % df_fem['Sex'].count()\n",
    "# print 'and %6.0f males' % df_male['Sex'].count()\n",
    "\n",
    "# print(fields)\n",
    "print(df_in.groupby('Survived').size())\n",
    "print 'So, '\n",
    "\n",
    "\n",
    "#plt.bar(y_pos,values)\n",
    "#plt.xticks(y_pos,fields)\n",
    "# plt.title(\"Gender distribution\")\n",
    "# plt.xlabel(\"Gender\")\n",
    "# plt.ylabel(\"Count\")\n",
    "\n",
    "#plt.show()"
   ]
  },
  {
   "cell_type": "code",
   "execution_count": 21,
   "metadata": {},
   "outputs": [
    {
     "data": {
      "image/png": "[encoded data removed]",
      "text/plain": [
       "<matplotlib.figure.Figure at 0x9ebb240>"
      ]
     },
     "metadata": {},
     "output_type": "display_data"
    }
   ],
   "source": [
    "import csv\n",
    "import numpy as np\n",
    "import pandas as pd\n",
    "import matplotlib.pyplot as plt\n",
    "\n",
    "#load csv into data frame\n",
    "fields=['Congruent', 'Incongruent']\n",
    "\n",
    "df_in= pd.read_csv('C:/cursos/data_sc_nanodegree/project_1/stroopdata.csv', usecols=fields)\n",
    "\n",
    "plt.hist(df_in['Congruent'], bins=8, color=\"green\")\n",
    "\n",
    "plt.title(\"Congruent results\")\n",
    "plt.xlabel(\"Time to read words in seconds\")\n",
    "plt.ylabel(\"Frequency\")\n",
    "\n",
    "plt.show()"
   ]
  },
  {
   "cell_type": "code",
   "execution_count": 3,
   "metadata": {},
   "outputs": [
    {
     "data": {
      "image/png": "[encoded data removed]",
      "text/plain": [
       "<matplotlib.figure.Figure at 0x9acaef0>"
      ]
     },
     "metadata": {},
     "output_type": "display_data"
    }
   ],
   "source": [
    "import csv\n",
    "import numpy as np\n",
    "import pandas as pd\n",
    "import matplotlib.pyplot as plt\n",
    "\n",
    "#load csv into data frame\n",
    "fields=['Congruent', 'Incongruent']\n",
    "\n",
    "df_in= pd.read_csv('C:/cursos/data_sc_nanodegree/project_1/stroopdata.csv', usecols=fields)\n",
    "\n",
    "plt.hist(df_in['Incongruent'], bins=8, color=\"red\")\n",
    "\n",
    "plt.title(\"Incongruent results\")\n",
    "plt.xlabel(\"Time to read words in seconds\")\n",
    "plt.ylabel(\"Frequency\")\n",
    "\n",
    "plt.show()"
   ]
  },
  {
   "cell_type": "markdown",
   "metadata": {},
   "source": [
    "As we see, with the histogram applied in the two versions of the test, we can observe that the notorious difference between minimum time, maximum time and the most repeated frequency on different time measures."
   ]
  },
  {
   "cell_type": "markdown",
   "metadata": {},
   "source": [
    "## 5. Now, perform the statistical test and report your results. What is your confidence level and your critical statistic value? Do you reject the null hypothesis or fail to reject it? Come to a conclusion in terms of the experiment task. Did the results match up with your expectations?"
   ]
  },
  {
   "cell_type": "markdown",
   "metadata": {},
   "source": [
    "Implementing the t-test student in python:"
   ]
  },
  {
   "cell_type": "code",
   "execution_count": 4,
   "metadata": {
    "scrolled": true
   },
   "outputs": [
    {
     "name": "stdout",
     "output_type": "stream",
     "text": [
      "mean of the differences: -7.96479\n",
      "t-statistic = -8.021 pvalue = 0.000000041030\n",
      "confidence interval with 95 percent : -15.929583 , 0.000000\n"
     ]
    }
   ],
   "source": [
    "import csv\n",
    "import numpy as np\n",
    "import pandas as pd\n",
    "import matplotlib.pyplot as plt\n",
    "import scipy.stats as stats\n",
    "import math\n",
    "\n",
    "\n",
    "# load csv into data frame\n",
    "fields=['Congruent', 'Incongruent']\n",
    "\n",
    "df_in= pd.read_csv('C:/cursos/data_sc_nanodegree/project_1/stroopdata.csv', usecols=fields)\n",
    "\n",
    "\n",
    "\n",
    "# creating a column with the difference between the samples\n",
    "df_in['diff']= df_in['Congruent']-df_in['Incongruent']\n",
    "\n",
    "# the sample length\n",
    "diff_length=df_in['diff'].count()\n",
    "\n",
    "# degree of freedom\n",
    "deg_free=diff_length-1\n",
    "\n",
    "\n",
    "# the mean of the difference between the two results\n",
    "diff_mean=df_in['diff'].mean()\n",
    "\n",
    "print 'mean of the differences: %6.5f' %diff_mean\n",
    "\n",
    "# the standard deviation of the difference\n",
    "diff_stdev=df_in['diff'].std()\n",
    "\n",
    "# Standard error\n",
    "std_error=diff_stdev/math.sqrt(diff_length)\n",
    "\n",
    "\n",
    "# calculing t statistic \n",
    "\n",
    "t_stat= (diff_mean)/(std_error)\n",
    "\n",
    "\n",
    "# applying the scipy function for t-test over two paired datasets\n",
    "paired_sample = stats.ttest_rel(df_in['Congruent'],df_in['Incongruent'])\n",
    "\n",
    "\n",
    "\n",
    "\n",
    "#obtaining margin of error\n",
    "# mar_err= z_crit * (diff_stdev/math.sqrt(diff_length))\n",
    "\n",
    "\n",
    "# calculating the confidence interval\n",
    "conf_int=(diff_mean + (paired_sample[0] * (diff_stdev/math.sqrt(diff_length))), diff_mean - (paired_sample[0] * (diff_stdev/math.sqrt(diff_length))))\n",
    "\n",
    "\n",
    "\n",
    "print 't-statistic = %6.3f pvalue = %6.12f' %  paired_sample\n",
    "\n",
    "print 'confidence interval with 95 percent : %6.6f , %6.6f' %  conf_int\n"
   ]
  },
  {
   "cell_type": "markdown",
   "metadata": {},
   "source": [
    "As we see:\n",
    "\n",
    "The p-value is lower than 0.05, and we have the condition to reject the null hypothesis. \n",
    "My conclusion is that the difference between the two datasets (Congruent and Incongruent) is significant. Otherwise, the Stroop effect exists.\n",
    "\n",
    "Taking the confidence interval (at 95%), the difference between the two datasets average times is (-15.929583 , 0 )\n"
   ]
  },
  {
   "cell_type": "markdown",
   "metadata": {},
   "source": [
    "## Reference:"
   ]
  },
  {
   "cell_type": "markdown",
   "metadata": {},
   "source": [
    "About t-student and python\n",
    "\n",
    "http://hamelg.blogspot.cl/2015/11/python-for-data-analysis-part-24.html\n",
    "\n",
    "http://www.scipy-lectures.org/packages/statistics/index.html#hypothesis-testing-comparing-two-groups\n",
    "\n",
    "http://www.statisticssolutions.com/manova-analysis-paired-sample-t-test/\n",
    "\n",
    "http://www.statisticshowto.com/when-to-use-a-t-score-vs-z-score/\n",
    "\n",
    "http://support.minitab.com/en-us/minitab/17/topic-library/basic-statistics-and-graphs/hypothesis-tests/tests-of-means/why-use-paired-t/\n",
    "\n",
    "Stroop effect:\n",
    "https://en.wikipedia.org/wiki/Stroop_effect\n"
   ]
  },
  {
   "cell_type": "code",
   "execution_count": null,
   "metadata": {
    "collapsed": true
   },
   "outputs": [],
   "source": []
  }
 ],
 "metadata": {
  "anaconda-cloud": {},
  "kernelspec": {
   "display_name": "Python 2",
   "language": "python",
   "name": "python2"
  },
  "language_info": {
   "codemirror_mode": {
    "name": "ipython",
    "version": 2
   },
   "file_extension": ".py",
   "mimetype": "text/x-python",
   "name": "python",
   "nbconvert_exporter": "python",
   "pygments_lexer": "ipython2",
   "version": "2.7.13"
  }
 },
 "nbformat": 4,
 "nbformat_minor": 1
}
